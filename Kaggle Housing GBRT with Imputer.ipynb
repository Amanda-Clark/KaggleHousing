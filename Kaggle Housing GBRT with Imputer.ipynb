{
 "cells": [
  {
   "cell_type": "code",
   "execution_count": 1,
   "metadata": {},
   "outputs": [],
   "source": [
    "import numpy as np\n",
    "import pandas as pd\n",
    "import matplotlib.pylab as plt\n",
    "import sklearn\n",
    "from sklearn.impute import SimpleImputer\n",
    "from sklearn.model_selection import GridSearchCV\n",
    "from sklearn.preprocessing import MinMaxScaler\n",
    "from sklearn.ensemble import GradientBoostingRegressor"
   ]
  },
  {
   "cell_type": "code",
   "execution_count": 2,
   "metadata": {},
   "outputs": [],
   "source": [
    "train_set = pd.read_csv(\"train.csv\")\n",
    "test_set = pd.read_csv(\"test.csv\")\n",
    "y_train = train_set.SalePrice\n",
    "train_set = train_set.drop([\"SalePrice\"], axis=1)\n",
    "train_set = train_set.set_index('Id')\n",
    "test_set = test_set.set_index('Id')"
   ]
  },
  {
   "cell_type": "code",
   "execution_count": 3,
   "metadata": {},
   "outputs": [],
   "source": [
    "firstmerge = pd.concat([train_set, test_set], axis=0)\n",
    "data_dummies= pd.get_dummies(firstmerge)\n",
    "train_set = data_dummies.loc[0:1460]\n",
    "test_set = data_dummies.loc[1461:]"
   ]
  },
  {
   "cell_type": "code",
   "execution_count": 4,
   "metadata": {},
   "outputs": [],
   "source": [
    "my_imputer = SimpleImputer()\n",
    "train_set = my_imputer.fit_transform(train_set)\n",
    "test_set = my_imputer.fit_transform(test_set)\n",
    "\n",
    "scaler = MinMaxScaler()\n",
    "scaler.fit(train_set)\n",
    "train_scaled = scaler.transform(train_set)\n",
    "test_scaled = scaler.transform(test_set)"
   ]
  },
  {
   "cell_type": "code",
   "execution_count": 5,
   "metadata": {},
   "outputs": [
    {
     "name": "stderr",
     "output_type": "stream",
     "text": [
      "/Library/Frameworks/Python.framework/Versions/3.7/lib/python3.7/site-packages/sklearn/model_selection/_split.py:1943: FutureWarning: You should specify a value for 'cv' instead of relying on the default value. The default value will change from 3 to 5 in version 0.22.\n",
      "  warnings.warn(CV_WARNING, FutureWarning)\n"
     ]
    }
   ],
   "source": [
    "\n",
    "param_grid = {'learning_rate': [0.1, 0.05, 0.02, 0.01],\n",
    "'max_depth': [4, 6],\n",
    "'min_samples_leaf': [3, 5, 9, 17],\n",
    "\n",
    "}\n",
    "est = GradientBoostingRegressor(n_estimators=500, random_state=33)\n",
    "gs_cv = GridSearchCV(est, param_grid, n_jobs=4).fit(train_scaled, y_train)"
   ]
  },
  {
   "cell_type": "code",
   "execution_count": 6,
   "metadata": {},
   "outputs": [],
   "source": [
    "test_result = gs_cv.predict(test_scaled)\n",
    "df= pd.DataFrame({'SalePrice': test_result})\n",
    "df.index.name='Id'\n",
    "df.index +=1461\n",
    "df.to_csv('gridsearch.csv')"
   ]
  },
  {
   "cell_type": "code",
   "execution_count": null,
   "metadata": {},
   "outputs": [],
   "source": []
  }
 ],
 "metadata": {
  "kernelspec": {
   "display_name": "Python 3",
   "language": "python",
   "name": "python3"
  },
  "language_info": {
   "codemirror_mode": {
    "name": "ipython",
    "version": 3
   },
   "file_extension": ".py",
   "mimetype": "text/x-python",
   "name": "python",
   "nbconvert_exporter": "python",
   "pygments_lexer": "ipython3",
   "version": "3.7.1"
  }
 },
 "nbformat": 4,
 "nbformat_minor": 2
}
